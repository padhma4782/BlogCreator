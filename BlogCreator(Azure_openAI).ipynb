{
  "nbformat": 4,
  "nbformat_minor": 0,
  "metadata": {
    "colab": {
      "provenance": [],
      "gpuType": "T4"
    },
    "kernelspec": {
      "name": "python3",
      "display_name": "Python 3"
    },
    "language_info": {
      "name": "python"
    },
    "accelerator": "GPU"
  },
  "cells": [
    {
      "cell_type": "code",
      "execution_count": 1,
      "metadata": {
        "colab": {
          "base_uri": "https://localhost:8080/"
        },
        "id": "JRJ3IAHfiu8r",
        "outputId": "8aed2271-8036-47e1-b432-363d5d2d9b08"
      },
      "outputs": [
        {
          "output_type": "stream",
          "name": "stdout",
          "text": [
            "Requirement already satisfied: openai in /usr/local/lib/python3.12/dist-packages (1.100.0)\n",
            "Requirement already satisfied: anyio<5,>=3.5.0 in /usr/local/lib/python3.12/dist-packages (from openai) (4.10.0)\n",
            "Requirement already satisfied: distro<2,>=1.7.0 in /usr/local/lib/python3.12/dist-packages (from openai) (1.9.0)\n",
            "Requirement already satisfied: httpx<1,>=0.23.0 in /usr/local/lib/python3.12/dist-packages (from openai) (0.28.1)\n",
            "Requirement already satisfied: jiter<1,>=0.4.0 in /usr/local/lib/python3.12/dist-packages (from openai) (0.10.0)\n",
            "Requirement already satisfied: pydantic<3,>=1.9.0 in /usr/local/lib/python3.12/dist-packages (from openai) (2.11.7)\n",
            "Requirement already satisfied: sniffio in /usr/local/lib/python3.12/dist-packages (from openai) (1.3.1)\n",
            "Requirement already satisfied: tqdm>4 in /usr/local/lib/python3.12/dist-packages (from openai) (4.67.1)\n",
            "Requirement already satisfied: typing-extensions<5,>=4.11 in /usr/local/lib/python3.12/dist-packages (from openai) (4.14.1)\n",
            "Requirement already satisfied: idna>=2.8 in /usr/local/lib/python3.12/dist-packages (from anyio<5,>=3.5.0->openai) (3.10)\n",
            "Requirement already satisfied: certifi in /usr/local/lib/python3.12/dist-packages (from httpx<1,>=0.23.0->openai) (2025.8.3)\n",
            "Requirement already satisfied: httpcore==1.* in /usr/local/lib/python3.12/dist-packages (from httpx<1,>=0.23.0->openai) (1.0.9)\n",
            "Requirement already satisfied: h11>=0.16 in /usr/local/lib/python3.12/dist-packages (from httpcore==1.*->httpx<1,>=0.23.0->openai) (0.16.0)\n",
            "Requirement already satisfied: annotated-types>=0.6.0 in /usr/local/lib/python3.12/dist-packages (from pydantic<3,>=1.9.0->openai) (0.7.0)\n",
            "Requirement already satisfied: pydantic-core==2.33.2 in /usr/local/lib/python3.12/dist-packages (from pydantic<3,>=1.9.0->openai) (2.33.2)\n",
            "Requirement already satisfied: typing-inspection>=0.4.0 in /usr/local/lib/python3.12/dist-packages (from pydantic<3,>=1.9.0->openai) (0.4.1)\n"
          ]
        }
      ],
      "source": [
        "!pip install openai"
      ]
    },
    {
      "cell_type": "code",
      "source": [
        "from openai import AzureOpenAI\n",
        "\n",
        "from google.colab import userdata\n",
        "\n",
        "AZURE_ENDPOINT = userdata.get('Azure_Endpoint')\n",
        "API_KEY = userdata.get('Azure_Key')\n",
        "API_VERSION = userdata.get('Azure_Version')\n",
        "MODEL = userdata.get('Model')\n",
        "\n",
        "# Initialize OpenAI client\n",
        "client = AzureOpenAI(\n",
        "    azure_endpoint=AZURE_ENDPOINT,\n",
        "    api_key=API_KEY,\n",
        "    api_version=API_VERSION\n",
        ")"
      ],
      "metadata": {
        "id": "h97wesDo9srk"
      },
      "execution_count": 2,
      "outputs": []
    },
    {
      "cell_type": "code",
      "source": [
        "topic=input(\"Enter the topic of blog\")\n",
        "myprompt=f'''you are a copy writer with more than 10 years of experience in blog writing.\n",
        "You have to write the blog on the Topic given by user.\n",
        "Each blog should have a title and is to be seperated into paragraphs with subtitle.\n",
        "Each paragraph should have maximum 3 lines\n",
        "\n",
        "Topic: {topic}\n",
        "'''"
      ],
      "metadata": {
        "colab": {
          "base_uri": "https://localhost:8080/"
        },
        "id": "vKZZ-fYJnzZ1",
        "outputId": "68054530-ef96-484e-c381-1105843ab489"
      },
      "execution_count": 3,
      "outputs": [
        {
          "name": "stdout",
          "output_type": "stream",
          "text": [
            "Enter the topic of blogbenifits of apple\n"
          ]
        }
      ]
    },
    {
      "cell_type": "code",
      "source": [
        "\n",
        "\n",
        "response = client.chat.completions.create(\n",
        "            model = \"gpt-4o\",\n",
        "            messages= [{'role' : 'user', 'content' : str(myprompt)}],\n",
        "            temperature=0,\n",
        "            max_tokens=900\n",
        "        )"
      ],
      "metadata": {
        "id": "WepopJVWkuO0"
      },
      "execution_count": 4,
      "outputs": []
    },
    {
      "cell_type": "code",
      "source": [
        "print(response.choices[0].message.content)"
      ],
      "metadata": {
        "colab": {
          "base_uri": "https://localhost:8080/"
        },
        "id": "qGAFXSgvnFyP",
        "outputId": "c1fb45b5-7f81-4fd6-f463-be5f915030c2"
      },
      "execution_count": 5,
      "outputs": [
        {
          "output_type": "stream",
          "name": "stdout",
          "text": [
            "**The Incredible Benefits of Apples: Nature's Crunchy Delight**\n",
            "\n",
            "**A Nutritional Powerhouse**\n",
            "\n",
            "Apples are more than just a tasty snack; they are packed with essential nutrients. Rich in dietary fiber, they aid digestion and promote a healthy gut. Additionally, apples are a good source of vitamin C, which boosts the immune system and helps fight off infections.\n",
            "\n",
            "**Heart Health Champions**\n",
            "\n",
            "Eating apples regularly can contribute to a healthier heart. The soluble fiber in apples helps lower cholesterol levels, reducing the risk of heart disease. Moreover, the antioxidants in apples, such as flavonoids, help protect the heart by reducing inflammation and oxidative stress.\n",
            "\n",
            "**Weight Management Allies**\n",
            "\n",
            "For those looking to maintain or lose weight, apples are an excellent choice. They are low in calories and high in water content, making them a filling snack. The fiber in apples also promotes a feeling of fullness, helping to curb overeating and support weight management goals.\n",
            "\n",
            "**Blood Sugar Regulation**\n",
            "\n",
            "Apples can play a role in regulating blood sugar levels. The fiber in apples slows down the digestion of sugars, preventing spikes in blood sugar. This makes them a smart choice for individuals with diabetes or those looking to maintain stable energy levels throughout the day.\n",
            "\n",
            "**Brain Health Boosters**\n",
            "\n",
            "Consuming apples may also benefit brain health. The antioxidants in apples, particularly quercetin, have been linked to improved cognitive function. Regular apple consumption may help protect brain cells from oxidative damage, potentially reducing the risk of neurodegenerative diseases.\n",
            "\n",
            "**Conclusion: An Apple a Day**\n",
            "\n",
            "Incorporating apples into your daily diet can offer numerous health benefits. From supporting heart health to aiding in weight management, apples are a versatile and delicious fruit. So, the next time you reach for a snack, consider the humble apple—nature's crunchy delight.\n"
          ]
        }
      ]
    }
  ]
}